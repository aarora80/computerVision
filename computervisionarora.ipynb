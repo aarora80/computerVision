{
 "cells": [
  {
   "cell_type": "code",
   "execution_count": 1,
   "id": "c6b8b310",
   "metadata": {
    "_cell_guid": "b1076dfc-b9ad-4769-8c92-a6c4dae69d19",
    "_uuid": "8f2839f25d086af736a60e9eeb907d3b93b6e0e5",
    "execution": {
     "iopub.execute_input": "2024-07-09T19:33:06.144632Z",
     "iopub.status.busy": "2024-07-09T19:33:06.144187Z",
     "iopub.status.idle": "2024-07-09T19:33:07.110285Z",
     "shell.execute_reply": "2024-07-09T19:33:07.108942Z"
    },
    "papermill": {
     "duration": 0.976663,
     "end_time": "2024-07-09T19:33:07.113784",
     "exception": false,
     "start_time": "2024-07-09T19:33:06.137121",
     "status": "completed"
    },
    "tags": []
   },
   "outputs": [
    {
     "name": "stdout",
     "output_type": "stream",
     "text": [
      "/kaggle/input/digit-recognizer/sample_submission.csv\n",
      "/kaggle/input/digit-recognizer/train.csv\n",
      "/kaggle/input/digit-recognizer/test.csv\n"
     ]
    }
   ],
   "source": [
    "# This Python 3 environment comes with many helpful analytics libraries installed\n",
    "# It is defined by the kaggle/python Docker image: https://github.com/kaggle/docker-python\n",
    "# For example, here's several helpful packages to load\n",
    "\n",
    "import numpy as np # linear algebra\n",
    "import pandas as pd # data processing, CSV file I/O (e.g. pd.read_csv)\n",
    "\n",
    "# Input data files are available in the read-only \"../input/\" directory\n",
    "# For example, running this (by clicking run or pressing Shift+Enter) will list all files under the input directory\n",
    "/\n",
    "import os\n",
    "for dirname, _, filenames in os.walk('/kaggle/input'):\n",
    "    for filename in filenames:\n",
    "        print(os.path.join(dirname, filename))\n",
    "\n",
    "# You can write up to 20GB to the current directory (/kaggle/working/) that gets preserved as output when you create a version using \"Save & Run All\" \n",
    "# You can also write temporary files to /kaggle/temp/, but they won't be saved outside of the current session"
   ]
  },
  {
   "cell_type": "code",
   "execution_count": 2,
   "id": "22cac7e8",
   "metadata": {
    "execution": {
     "iopub.execute_input": "2024-07-09T19:33:07.127512Z",
     "iopub.status.busy": "2024-07-09T19:33:07.126946Z",
     "iopub.status.idle": "2024-07-09T19:33:13.885297Z",
     "shell.execute_reply": "2024-07-09T19:33:13.884015Z"
    },
    "papermill": {
     "duration": 6.769181,
     "end_time": "2024-07-09T19:33:13.888485",
     "exception": false,
     "start_time": "2024-07-09T19:33:07.119304",
     "status": "completed"
    },
    "tags": []
   },
   "outputs": [
    {
     "data": {
      "text/plain": [
       "<bound method NDFrame.head of        label  pixel0  pixel1  pixel2  pixel3  pixel4  pixel5  pixel6  pixel7  \\\n",
       "0          1       0       0       0       0       0       0       0       0   \n",
       "1          0       0       0       0       0       0       0       0       0   \n",
       "2          1       0       0       0       0       0       0       0       0   \n",
       "3          4       0       0       0       0       0       0       0       0   \n",
       "4          0       0       0       0       0       0       0       0       0   \n",
       "...      ...     ...     ...     ...     ...     ...     ...     ...     ...   \n",
       "41995      0       0       0       0       0       0       0       0       0   \n",
       "41996      1       0       0       0       0       0       0       0       0   \n",
       "41997      7       0       0       0       0       0       0       0       0   \n",
       "41998      6       0       0       0       0       0       0       0       0   \n",
       "41999      9       0       0       0       0       0       0       0       0   \n",
       "\n",
       "       pixel8  ...  pixel774  pixel775  pixel776  pixel777  pixel778  \\\n",
       "0           0  ...         0         0         0         0         0   \n",
       "1           0  ...         0         0         0         0         0   \n",
       "2           0  ...         0         0         0         0         0   \n",
       "3           0  ...         0         0         0         0         0   \n",
       "4           0  ...         0         0         0         0         0   \n",
       "...       ...  ...       ...       ...       ...       ...       ...   \n",
       "41995       0  ...         0         0         0         0         0   \n",
       "41996       0  ...         0         0         0         0         0   \n",
       "41997       0  ...         0         0         0         0         0   \n",
       "41998       0  ...         0         0         0         0         0   \n",
       "41999       0  ...         0         0         0         0         0   \n",
       "\n",
       "       pixel779  pixel780  pixel781  pixel782  pixel783  \n",
       "0             0         0         0         0         0  \n",
       "1             0         0         0         0         0  \n",
       "2             0         0         0         0         0  \n",
       "3             0         0         0         0         0  \n",
       "4             0         0         0         0         0  \n",
       "...         ...       ...       ...       ...       ...  \n",
       "41995         0         0         0         0         0  \n",
       "41996         0         0         0         0         0  \n",
       "41997         0         0         0         0         0  \n",
       "41998         0         0         0         0         0  \n",
       "41999         0         0         0         0         0  \n",
       "\n",
       "[42000 rows x 785 columns]>"
      ]
     },
     "execution_count": 2,
     "metadata": {},
     "output_type": "execute_result"
    }
   ],
   "source": [
    "import pandas as pd\n",
    "trainData = pd.read_csv(\"/kaggle/input/digit-recognizer/train.csv\")\n",
    "testData = pd.read_csv(\"/kaggle/input/digit-recognizer/test.csv\")\n",
    "trainData.head"
   ]
  },
  {
   "cell_type": "code",
   "execution_count": 3,
   "id": "cba08846",
   "metadata": {
    "execution": {
     "iopub.execute_input": "2024-07-09T19:33:13.901212Z",
     "iopub.status.busy": "2024-07-09T19:33:13.900786Z",
     "iopub.status.idle": "2024-07-09T19:33:13.917788Z",
     "shell.execute_reply": "2024-07-09T19:33:13.916466Z"
    },
    "papermill": {
     "duration": 0.026495,
     "end_time": "2024-07-09T19:33:13.920611",
     "exception": false,
     "start_time": "2024-07-09T19:33:13.894116",
     "status": "completed"
    },
    "tags": []
   },
   "outputs": [
    {
     "data": {
      "text/plain": [
       "<bound method NDFrame.head of        pixel0  pixel1  pixel2  pixel3  pixel4  pixel5  pixel6  pixel7  pixel8  \\\n",
       "0           0       0       0       0       0       0       0       0       0   \n",
       "1           0       0       0       0       0       0       0       0       0   \n",
       "2           0       0       0       0       0       0       0       0       0   \n",
       "3           0       0       0       0       0       0       0       0       0   \n",
       "4           0       0       0       0       0       0       0       0       0   \n",
       "...       ...     ...     ...     ...     ...     ...     ...     ...     ...   \n",
       "27995       0       0       0       0       0       0       0       0       0   \n",
       "27996       0       0       0       0       0       0       0       0       0   \n",
       "27997       0       0       0       0       0       0       0       0       0   \n",
       "27998       0       0       0       0       0       0       0       0       0   \n",
       "27999       0       0       0       0       0       0       0       0       0   \n",
       "\n",
       "       pixel9  ...  pixel774  pixel775  pixel776  pixel777  pixel778  \\\n",
       "0           0  ...         0         0         0         0         0   \n",
       "1           0  ...         0         0         0         0         0   \n",
       "2           0  ...         0         0         0         0         0   \n",
       "3           0  ...         0         0         0         0         0   \n",
       "4           0  ...         0         0         0         0         0   \n",
       "...       ...  ...       ...       ...       ...       ...       ...   \n",
       "27995       0  ...         0         0         0         0         0   \n",
       "27996       0  ...         0         0         0         0         0   \n",
       "27997       0  ...         0         0         0         0         0   \n",
       "27998       0  ...         0         0         0         0         0   \n",
       "27999       0  ...         0         0         0         0         0   \n",
       "\n",
       "       pixel779  pixel780  pixel781  pixel782  pixel783  \n",
       "0             0         0         0         0         0  \n",
       "1             0         0         0         0         0  \n",
       "2             0         0         0         0         0  \n",
       "3             0         0         0         0         0  \n",
       "4             0         0         0         0         0  \n",
       "...         ...       ...       ...       ...       ...  \n",
       "27995         0         0         0         0         0  \n",
       "27996         0         0         0         0         0  \n",
       "27997         0         0         0         0         0  \n",
       "27998         0         0         0         0         0  \n",
       "27999         0         0         0         0         0  \n",
       "\n",
       "[28000 rows x 784 columns]>"
      ]
     },
     "execution_count": 3,
     "metadata": {},
     "output_type": "execute_result"
    }
   ],
   "source": [
    "testData.head"
   ]
  },
  {
   "cell_type": "code",
   "execution_count": 4,
   "id": "5590f801",
   "metadata": {
    "execution": {
     "iopub.execute_input": "2024-07-09T19:33:13.933975Z",
     "iopub.status.busy": "2024-07-09T19:33:13.933535Z",
     "iopub.status.idle": "2024-07-09T19:33:29.390150Z",
     "shell.execute_reply": "2024-07-09T19:33:29.388709Z"
    },
    "papermill": {
     "duration": 15.466611,
     "end_time": "2024-07-09T19:33:29.393220",
     "exception": false,
     "start_time": "2024-07-09T19:33:13.926609",
     "status": "completed"
    },
    "tags": []
   },
   "outputs": [
    {
     "name": "stderr",
     "output_type": "stream",
     "text": [
      "2024-07-09 19:33:16.297419: E external/local_xla/xla/stream_executor/cuda/cuda_dnn.cc:9261] Unable to register cuDNN factory: Attempting to register factory for plugin cuDNN when one has already been registered\n",
      "2024-07-09 19:33:16.297555: E external/local_xla/xla/stream_executor/cuda/cuda_fft.cc:607] Unable to register cuFFT factory: Attempting to register factory for plugin cuFFT when one has already been registered\n",
      "2024-07-09 19:33:16.458076: E external/local_xla/xla/stream_executor/cuda/cuda_blas.cc:1515] Unable to register cuBLAS factory: Attempting to register factory for plugin cuBLAS when one has already been registered\n"
     ]
    }
   ],
   "source": [
    "#The necessary libraries to build the CNN which is good for image recognition\n",
    "import numpy as np\n",
    "import tensorflow as tf\n",
    "from tensorflow.keras.models import Sequential\n",
    "from tensorflow.keras.layers import Conv2D, MaxPooling2D, Flatten, Dense, Dropout\n",
    "from tensorflow.keras.utils import to_categorical\n",
    "import matplotlib.pyplot as plt"
   ]
  },
  {
   "cell_type": "code",
   "execution_count": 5,
   "id": "8de77636",
   "metadata": {
    "execution": {
     "iopub.execute_input": "2024-07-09T19:33:29.420881Z",
     "iopub.status.busy": "2024-07-09T19:33:29.420156Z",
     "iopub.status.idle": "2024-07-09T19:33:29.713599Z",
     "shell.execute_reply": "2024-07-09T19:33:29.712433Z"
    },
    "papermill": {
     "duration": 0.306139,
     "end_time": "2024-07-09T19:33:29.716430",
     "exception": false,
     "start_time": "2024-07-09T19:33:29.410291",
     "status": "completed"
    },
    "tags": []
   },
   "outputs": [],
   "source": [
    "#Now we seperate the Features and labels\n",
    "\n",
    "X_train = trainData.drop(\"label\", axis = 1).values\n",
    "y_train = trainData[\"label\"].values\n",
    "\n",
    "#Normalize the pixels to [0,1]\n",
    "\n",
    "X_train = X_train / 255.0\n",
    "testData = testData/255.0\n",
    "\n",
    "# Reshape the data to fit the model (28x28x1)\n",
    "X_train = X_train.reshape(-1, 28, 28, 1)\n",
    "test_data = testData.values.reshape(-1, 28, 28, 1)"
   ]
  },
  {
   "cell_type": "code",
   "execution_count": 6,
   "id": "ad0be3fc",
   "metadata": {
    "execution": {
     "iopub.execute_input": "2024-07-09T19:33:29.729177Z",
     "iopub.status.busy": "2024-07-09T19:33:29.728768Z",
     "iopub.status.idle": "2024-07-09T19:33:29.735414Z",
     "shell.execute_reply": "2024-07-09T19:33:29.734254Z"
    },
    "papermill": {
     "duration": 0.016296,
     "end_time": "2024-07-09T19:33:29.738226",
     "exception": false,
     "start_time": "2024-07-09T19:33:29.721930",
     "status": "completed"
    },
    "tags": []
   },
   "outputs": [],
   "source": [
    "# One-hot encode the labels\n",
    "y_train = to_categorical(y_train, 10)"
   ]
  },
  {
   "cell_type": "code",
   "execution_count": 7,
   "id": "5a402a7e",
   "metadata": {
    "execution": {
     "iopub.execute_input": "2024-07-09T19:33:29.750932Z",
     "iopub.status.busy": "2024-07-09T19:33:29.750500Z",
     "iopub.status.idle": "2024-07-09T19:33:29.925854Z",
     "shell.execute_reply": "2024-07-09T19:33:29.924288Z"
    },
    "papermill": {
     "duration": 0.185727,
     "end_time": "2024-07-09T19:33:29.929496",
     "exception": false,
     "start_time": "2024-07-09T19:33:29.743769",
     "status": "completed"
    },
    "tags": []
   },
   "outputs": [],
   "source": [
    "from tensorflow.keras import Input\n",
    "\n",
    "model = Sequential()\n",
    "\n",
    "# Add an Input layer\n",
    "model.add(Input(shape=(28, 28, 1)))\n",
    "\n",
    "# Add convolutional layers\n",
    "model.add(Conv2D(32, kernel_size=(3, 3), activation='relu'))\n",
    "model.add(MaxPooling2D(pool_size=(2, 2)))\n",
    "model.add(Conv2D(64, kernel_size=(3, 3), activation='relu'))\n",
    "model.add(MaxPooling2D(pool_size=(2, 2)))\n",
    "\n",
    "# Add fully connected layers\n",
    "model.add(Flatten())\n",
    "model.add(Dense(128, activation='relu'))\n",
    "model.add(Dropout(0.5))\n",
    "model.add(Dense(10, activation='softmax'))\n",
    "\n",
    "# Compile the model\n",
    "model.compile(optimizer='adam', loss='categorical_crossentropy', metrics=['accuracy'])\n"
   ]
  },
  {
   "cell_type": "code",
   "execution_count": 8,
   "id": "d1b83459",
   "metadata": {
    "execution": {
     "iopub.execute_input": "2024-07-09T19:33:29.943692Z",
     "iopub.status.busy": "2024-07-09T19:33:29.943075Z",
     "iopub.status.idle": "2024-07-09T19:36:44.076206Z",
     "shell.execute_reply": "2024-07-09T19:36:44.074806Z"
    },
    "papermill": {
     "duration": 194.143679,
     "end_time": "2024-07-09T19:36:44.078873",
     "exception": false,
     "start_time": "2024-07-09T19:33:29.935194",
     "status": "completed"
    },
    "tags": []
   },
   "outputs": [
    {
     "name": "stdout",
     "output_type": "stream",
     "text": [
      "Epoch 1/10\n",
      "\u001b[1m1050/1050\u001b[0m \u001b[32m━━━━━━━━━━━━━━━━━━━━\u001b[0m\u001b[37m\u001b[0m \u001b[1m22s\u001b[0m 19ms/step - accuracy: 0.8262 - loss: 0.5458 - val_accuracy: 0.9804 - val_loss: 0.0613\n",
      "Epoch 2/10\n",
      "\u001b[1m1050/1050\u001b[0m \u001b[32m━━━━━━━━━━━━━━━━━━━━\u001b[0m\u001b[37m\u001b[0m \u001b[1m18s\u001b[0m 17ms/step - accuracy: 0.9679 - loss: 0.1080 - val_accuracy: 0.9858 - val_loss: 0.0471\n",
      "Epoch 3/10\n",
      "\u001b[1m1050/1050\u001b[0m \u001b[32m━━━━━━━━━━━━━━━━━━━━\u001b[0m\u001b[37m\u001b[0m \u001b[1m19s\u001b[0m 18ms/step - accuracy: 0.9766 - loss: 0.0767 - val_accuracy: 0.9886 - val_loss: 0.0375\n",
      "Epoch 4/10\n",
      "\u001b[1m1050/1050\u001b[0m \u001b[32m━━━━━━━━━━━━━━━━━━━━\u001b[0m\u001b[37m\u001b[0m \u001b[1m20s\u001b[0m 18ms/step - accuracy: 0.9831 - loss: 0.0543 - val_accuracy: 0.9874 - val_loss: 0.0386\n",
      "Epoch 5/10\n",
      "\u001b[1m1050/1050\u001b[0m \u001b[32m━━━━━━━━━━━━━━━━━━━━\u001b[0m\u001b[37m\u001b[0m \u001b[1m18s\u001b[0m 17ms/step - accuracy: 0.9847 - loss: 0.0474 - val_accuracy: 0.9892 - val_loss: 0.0369\n",
      "Epoch 6/10\n",
      "\u001b[1m1050/1050\u001b[0m \u001b[32m━━━━━━━━━━━━━━━━━━━━\u001b[0m\u001b[37m\u001b[0m \u001b[1m18s\u001b[0m 17ms/step - accuracy: 0.9882 - loss: 0.0362 - val_accuracy: 0.9889 - val_loss: 0.0376\n",
      "Epoch 7/10\n",
      "\u001b[1m1050/1050\u001b[0m \u001b[32m━━━━━━━━━━━━━━━━━━━━\u001b[0m\u001b[37m\u001b[0m \u001b[1m20s\u001b[0m 17ms/step - accuracy: 0.9898 - loss: 0.0340 - val_accuracy: 0.9895 - val_loss: 0.0372\n",
      "Epoch 8/10\n",
      "\u001b[1m1050/1050\u001b[0m \u001b[32m━━━━━━━━━━━━━━━━━━━━\u001b[0m\u001b[37m\u001b[0m \u001b[1m19s\u001b[0m 18ms/step - accuracy: 0.9910 - loss: 0.0287 - val_accuracy: 0.9894 - val_loss: 0.0356\n",
      "Epoch 9/10\n",
      "\u001b[1m1050/1050\u001b[0m \u001b[32m━━━━━━━━━━━━━━━━━━━━\u001b[0m\u001b[37m\u001b[0m \u001b[1m19s\u001b[0m 18ms/step - accuracy: 0.9908 - loss: 0.0290 - val_accuracy: 0.9905 - val_loss: 0.0388\n",
      "Epoch 10/10\n",
      "\u001b[1m1050/1050\u001b[0m \u001b[32m━━━━━━━━━━━━━━━━━━━━\u001b[0m\u001b[37m\u001b[0m \u001b[1m18s\u001b[0m 17ms/step - accuracy: 0.9933 - loss: 0.0215 - val_accuracy: 0.9918 - val_loss: 0.0345\n"
     ]
    },
    {
     "data": {
      "text/plain": [
       "<keras.src.callbacks.history.History at 0x791f214a9bd0>"
      ]
     },
     "execution_count": 8,
     "metadata": {},
     "output_type": "execute_result"
    }
   ],
   "source": [
    "model.fit(X_train, y_train, epochs=10, batch_size=32, validation_split=0.2)\n"
   ]
  },
  {
   "cell_type": "code",
   "execution_count": 9,
   "id": "ce73bf8b",
   "metadata": {
    "execution": {
     "iopub.execute_input": "2024-07-09T19:36:44.642343Z",
     "iopub.status.busy": "2024-07-09T19:36:44.641100Z",
     "iopub.status.idle": "2024-07-09T19:36:51.033496Z",
     "shell.execute_reply": "2024-07-09T19:36:51.032211Z"
    },
    "papermill": {
     "duration": 6.676752,
     "end_time": "2024-07-09T19:36:51.036368",
     "exception": false,
     "start_time": "2024-07-09T19:36:44.359616",
     "status": "completed"
    },
    "tags": []
   },
   "outputs": [
    {
     "name": "stdout",
     "output_type": "stream",
     "text": [
      "\u001b[1m875/875\u001b[0m \u001b[32m━━━━━━━━━━━━━━━━━━━━\u001b[0m\u001b[37m\u001b[0m \u001b[1m6s\u001b[0m 6ms/step\n"
     ]
    }
   ],
   "source": [
    "predictions = model.predict(test_data)\n",
    "predicted_labels = np.argmax(predictions, axis=1)"
   ]
  },
  {
   "cell_type": "code",
   "execution_count": 10,
   "id": "ceb8b96a",
   "metadata": {
    "execution": {
     "iopub.execute_input": "2024-07-09T19:36:51.677108Z",
     "iopub.status.busy": "2024-07-09T19:36:51.676668Z",
     "iopub.status.idle": "2024-07-09T19:36:51.729375Z",
     "shell.execute_reply": "2024-07-09T19:36:51.728166Z"
    },
    "papermill": {
     "duration": 0.345038,
     "end_time": "2024-07-09T19:36:51.732905",
     "exception": false,
     "start_time": "2024-07-09T19:36:51.387867",
     "status": "completed"
    },
    "tags": []
   },
   "outputs": [],
   "source": [
    "# Create a DataFrame for the submission\n",
    "submission = pd.DataFrame({'ImageId': np.arange(1, len(predicted_labels) + 1), 'Label': predicted_labels})\n",
    "\n",
    "# Save to CSV\n",
    "submission.to_csv('submission.csv', index=False)\n"
   ]
  },
  {
   "cell_type": "code",
   "execution_count": null,
   "id": "989b0d21",
   "metadata": {
    "papermill": {
     "duration": 0.288532,
     "end_time": "2024-07-09T19:36:52.319425",
     "exception": false,
     "start_time": "2024-07-09T19:36:52.030893",
     "status": "completed"
    },
    "tags": []
   },
   "outputs": [],
   "source": []
  }
 ],
 "metadata": {
  "kaggle": {
   "accelerator": "none",
   "dataSources": [
    {
     "databundleVersionId": 861823,
     "sourceId": 3004,
     "sourceType": "competition"
    }
   ],
   "dockerImageVersionId": 30732,
   "isGpuEnabled": false,
   "isInternetEnabled": false,
   "language": "python",
   "sourceType": "notebook"
  },
  "kernelspec": {
   "display_name": "Python 3",
   "language": "python",
   "name": "python3"
  },
  "language_info": {
   "codemirror_mode": {
    "name": "ipython",
    "version": 3
   },
   "file_extension": ".py",
   "mimetype": "text/x-python",
   "name": "python",
   "nbconvert_exporter": "python",
   "pygments_lexer": "ipython3",
   "version": "3.10.13"
  },
  "papermill": {
   "default_parameters": {},
   "duration": 231.297139,
   "end_time": "2024-07-09T19:36:54.229529",
   "environment_variables": {},
   "exception": null,
   "input_path": "__notebook__.ipynb",
   "output_path": "__notebook__.ipynb",
   "parameters": {},
   "start_time": "2024-07-09T19:33:02.932390",
   "version": "2.5.0"
  }
 },
 "nbformat": 4,
 "nbformat_minor": 5
}
